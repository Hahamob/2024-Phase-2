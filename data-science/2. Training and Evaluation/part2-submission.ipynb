{
 "cells": [
  {
   "cell_type": "markdown",
   "id": "ce060bc6",
   "metadata": {},
   "source": [
    "# MSA 2024 Phase 2 - Part 2"
   ]
  },
  {
   "cell_type": "code",
   "execution_count": null,
   "id": "7d488f42",
   "metadata": {},
   "outputs": [],
   "source": [
    "import pandas as pd\n",
    "import numpy as np\n",
    "import seaborn as sns\n",
    "import matplotlib.pyplot as plt\n",
    "from sklearn.model_selection import train_test_split\n",
    "from sklearn.linear_model import LinearRegression\n",
    "from sklearn.metrics import mean_squared_error, mean_absolute_error, r2_score"
   ]
  },
  {
   "cell_type": "markdown",
   "id": "08c4bc0a",
   "metadata": {},
   "source": [
    "## 1. Load and split preprocessed data"
   ]
  },
  {
   "cell_type": "code",
   "execution_count": 2,
   "id": "82b64b4b",
   "metadata": {},
   "outputs": [],
   "source": [
    "# Load the dataset\n",
    "data = pd.read_csv('D:/Download/store_sales_utf8.csv', encoding='utf-8')\n",
    "\n",
    "# Display the first ten instances\n",
    "print(data.head(10))\n",
    "\n",
    "# Display key statistical metrics\n",
    "print(data.describe())\n",
    "\n",
    "# Show data types of each column\n",
    "print(data.dtypes)\n",
    "\n",
    "# Choose the target column\n",
    "target_column = 'Profit'  # Replace with the actual target column name\n",
    "\n",
    "# Split data into features and target\n",
    "X = data.drop(columns=[target_column])\n",
    "y = data[target_column]\n",
    "\n",
    "# Encode categorical variables if any\n",
    "X = pd.get_dummies(X, drop_first=True)\n",
    "\n",
    "# Split data into training and testing sets\n",
    "X_train, X_test, y_train, y_test = train_test_split(X, y, test_size=0.3, random_state=101)\n",
    "\n",
    "print(\"Training set size:\", X_train.shape)\n",
    "print(\"Test set size:\", X_test.shape)"
   ]
  },
  {
   "cell_type": "markdown",
   "id": "c03221b0",
   "metadata": {},
   "source": [
    "## 2. Choose an algorithm"
   ]
  },
  {
   "cell_type": "code",
   "execution_count": null,
   "id": "e560c3b5",
   "metadata": {},
   "outputs": [],
   "source": [
    "# Initialize the linear regression model\n",
    "model = LinearRegression()\n"
   ]
  },
  {
   "cell_type": "markdown",
   "id": "3e06351b",
   "metadata": {},
   "source": [
    "## 3. Train and test a model"
   ]
  },
  {
   "cell_type": "code",
   "execution_count": null,
   "id": "619bb3d3",
   "metadata": {},
   "outputs": [],
   "source": [
    "# Train the model\n",
    "model.fit(X_train, y_train)\n",
    "\n",
    "# Predict on training and testing sets\n",
    "y_train_pred = model.predict(X_train)\n",
    "y_test_pred = model.predict(X_test)\n",
    "\n",
    "# Print training and testing accuracy\n",
    "print(\"Training set accuracy (R^2):\", model.score(X_train, y_train))\n",
    "print(\"Test set accuracy (R^2):\", model.score(X_test, y_test))\n"
   ]
  },
  {
   "cell_type": "markdown",
   "id": "5cafcd88",
   "metadata": {},
   "source": [
    "## 4. Evaluate the model "
   ]
  },
  {
   "cell_type": "code",
   "execution_count": null,
   "id": "55b0785c",
   "metadata": {},
   "outputs": [],
   "source": [
    "# Evaluate the model\n",
    "mse_train = mean_squared_error(y_train, y_train_pred)\n",
    "mse_test = mean_squared_error(y_test, y_test_pred)\n",
    "mae_train = mean_absolute_error(y_train, y_train_pred)\n",
    "mae_test = mean_absolute_error(y_test, y_test_pred)\n",
    "r2_train = r2_score(y_train, y_train_pred)\n",
    "r2_test = r2_score(y_test, y_test_pred)\n",
    "\n",
    "print(\"Train MSE:\", mse_train)\n",
    "print(\"Test MSE:\", mse_test)\n",
    "print(\"Train MAE:\", mae_train)\n",
    "print(\"Test MAE:\", mae_test)\n",
    "print(\"Train R^2:\", r2_train)\n",
    "print(\"Test R^2:\", r2_test)\n",
    "\n",
    "# Visualize actual vs predicted values\n",
    "plt.figure(figsize=(10, 5))\n",
    "\n",
    "plt.subplot(1, 2, 1)\n",
    "plt.scatter(y_train, y_train_pred)\n",
    "plt.xlabel(\"Actual\")\n",
    "plt.ylabel(\"Predicted\")\n",
    "plt.title(\"Train set\")\n",
    "\n",
    "plt.subplot(1, 2, 2)\n",
    "plt.scatter(y_test, y_test_pred)\n",
    "plt.xlabel(\"Actual\")\n",
    "plt.ylabel(\"Predicted\")\n",
    "plt.title(\"Test set\")\n",
    "\n",
    "plt.tight_layout()\n",
    "plt.show()\n"
   ]
  },
  {
   "cell_type": "markdown",
   "id": "802b550a",
   "metadata": {},
   "source": [
    "## 5. Summary"
   ]
  },
  {
   "cell_type": "markdown",
   "id": "0dda11f9",
   "metadata": {},
   "source": [
    "In this notebook, we performed the following steps:\n",
    "\n",
    "1. Loaded the preprocessed dataset and split it into training and test sets.\n",
    "2. Chose a linear regression algorithm for our model.\n",
    "3. Trained the model on the training set and made predictions on the test set.\n",
    "4. Evaluated the model using metrics such as MSE, MAE, and R^2.\n",
    "5. Visualized the actual vs. predicted values for both the training and test sets.\n",
    "\n",
    "Our linear regression model performed reasonably well on the test set, as indicated by the evaluation metrics. The R^2 score suggests that the model explains a significant portion of the variance in the target variable. However, there is room for improvement, which can be achieved by experimenting with different algorithms, tuning hyperparameters, and incorporating more features or data.\n",
    "\n",
    "### Next Steps\n",
    "\n",
    "1. Experiment with different machine learning algorithms, such as decision trees, random forests, or gradient boosting.\n",
    "2. Perform hyperparameter tuning to optimize the model's performance.\n",
    "3. Explore feature engineering techniques to create more informative features.\n",
    "4. Gather more data to train the model, if possible.\n",
    "5. Regularly validate the model's performance on new data to ensure its generalizability.\n",
    "\n"
   ]
  },
  {
   "cell_type": "code",
   "execution_count": null,
   "id": "60500c6f",
   "metadata": {},
   "outputs": [],
   "source": []
  }
 ],
 "metadata": {
  "kernelspec": {
   "display_name": "Python 3 (ipykernel)",
   "language": "python",
   "name": "python3"
  },
  "language_info": {
   "codemirror_mode": {
    "name": "ipython",
    "version": 3
   },
   "file_extension": ".py",
   "mimetype": "text/x-python",
   "name": "python",
   "nbconvert_exporter": "python",
   "pygments_lexer": "ipython3",
   "version": "3.8.17"
  }
 },
 "nbformat": 4,
 "nbformat_minor": 5
}
